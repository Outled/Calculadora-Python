{
  "nbformat": 4,
  "nbformat_minor": 0,
  "metadata": {
    "colab": {
      "name": "Untitled2.ipynb",
      "provenance": [],
      "authorship_tag": "ABX9TyPODpcRfWrjn4yXB2E6wrwB",
      "include_colab_link": true
    },
    "kernelspec": {
      "name": "python3",
      "display_name": "Python 3"
    },
    "language_info": {
      "name": "python"
    }
  },
  "cells": [
    {
      "cell_type": "markdown",
      "metadata": {
        "id": "view-in-github",
        "colab_type": "text"
      },
      "source": [
        "<a href=\"https://colab.research.google.com/github/Outled/Calculadora-Python/blob/main/Calculadora.ipynb\" target=\"_parent\"><img src=\"https://colab.research.google.com/assets/colab-badge.svg\" alt=\"Open In Colab\"/></a>"
      ]
    },
    {
      "cell_type": "code",
      "execution_count": 1,
      "metadata": {
        "colab": {
          "base_uri": "https://localhost:8080/"
        },
        "id": "zcVRVkoJ9nQc",
        "outputId": "fa47f294-aa65-4e97-9b77-0d495796cca7"
      },
      "outputs": [
        {
          "output_type": "stream",
          "name": "stdout",
          "text": [
            "Olá Mundo\n"
          ]
        }
      ],
      "source": [
        "print(\"Olá Mundo\")"
      ]
    },
    {
      "cell_type": "code",
      "source": [
        "4+2"
      ],
      "metadata": {
        "colab": {
          "base_uri": "https://localhost:8080/"
        },
        "id": "WsirnSsI9vHn",
        "outputId": "9a2396d6-1897-413d-b383-f1b385714b9a"
      },
      "execution_count": 2,
      "outputs": [
        {
          "output_type": "execute_result",
          "data": {
            "text/plain": [
              "6"
            ]
          },
          "metadata": {},
          "execution_count": 2
        }
      ]
    },
    {
      "cell_type": "code",
      "source": [
        "10-5"
      ],
      "metadata": {
        "colab": {
          "base_uri": "https://localhost:8080/"
        },
        "id": "GlZ-ASe_9zS1",
        "outputId": "4129e3dd-a232-4e5d-b4ec-0620845e804d"
      },
      "execution_count": 3,
      "outputs": [
        {
          "output_type": "execute_result",
          "data": {
            "text/plain": [
              "5"
            ]
          },
          "metadata": {},
          "execution_count": 3
        }
      ]
    },
    {
      "cell_type": "code",
      "source": [
        "10==2"
      ],
      "metadata": {
        "colab": {
          "base_uri": "https://localhost:8080/"
        },
        "id": "HWMtUlyD92RP",
        "outputId": "847fe8da-52d4-4eb4-9f68-4ec598cdff99"
      },
      "execution_count": 4,
      "outputs": [
        {
          "output_type": "execute_result",
          "data": {
            "text/plain": [
              "False"
            ]
          },
          "metadata": {},
          "execution_count": 4
        }
      ]
    },
    {
      "cell_type": "code",
      "source": [
        "numer1= input (\"Digite um numero para sua expressão\")"
      ],
      "metadata": {
        "colab": {
          "base_uri": "https://localhost:8080/"
        },
        "id": "I0NVZVYB9-PC",
        "outputId": "7f33b88c-219b-431a-afe8-454657aa38d7"
      },
      "execution_count": 6,
      "outputs": [
        {
          "name": "stdout",
          "output_type": "stream",
          "text": [
            "Digite um numero para sua expressão10\n"
          ]
        }
      ]
    },
    {
      "cell_type": "code",
      "source": [
        "operacao=input(\"Selecione uma das opcoes a seguir: Somar + , Subtraçao - , Multiplicao *  Divisao /\")\n",
        "\n",
        "numero1 = int (input(\"Digite um numero \" ))\n",
        "numero2 = int (input(\"Digite o segundo numero \" ))\n",
        "\n",
        "if operacao == \"Somar\":\n",
        "  print(numero1 + numero2)\n",
        "  print(\"Obrigado por usar a nossa calculadora :)\")\n",
        "if operacao == \"Subtraçao\" :\n",
        "  print(numero1 - numero2) \n",
        "  print(\"Obrigado por usar a nossa calculadora :)\")\n",
        "if operacao == \"Multiplicaçao\" :\n",
        "  print(numero1 * numero2)\n",
        "  print(\"Obrigado por usar a nossa calculadora :)\")\n",
        "if operacao == \"Divisao\" :\n",
        "  print(numero1 / numero2)  \n",
        "  print(\"Obrigado por usar a nossa calculadora :)\")"
      ],
      "metadata": {
        "colab": {
          "base_uri": "https://localhost:8080/"
        },
        "id": "1QaSlB4n-9dS",
        "outputId": "ac91b8dd-9a85-4646-ae8f-a277e02fbc31"
      },
      "execution_count": 104,
      "outputs": [
        {
          "output_type": "stream",
          "name": "stdout",
          "text": [
            "Selecione uma das opcoes a seguir: Somar + , Subtraçao - , Multiplicao *  Divisao /Somar\n",
            "Digite um numero 2\n",
            "Digite o segundo numero 3\n",
            "5\n",
            "obrigado por usar a nossa calculadora :)\n"
          ]
        }
      ]
    },
    {
      "cell_type": "code",
      "source": [
        "float(opcao1)"
      ],
      "metadata": {
        "colab": {
          "base_uri": "https://localhost:8080/",
          "height": 167
        },
        "id": "l0SOAjQqQsSh",
        "outputId": "139e7ec3-6446-4b00-f620-e5a2ef9639ad"
      },
      "execution_count": 105,
      "outputs": [
        {
          "output_type": "error",
          "ename": "ValueError",
          "evalue": "ignored",
          "traceback": [
            "\u001b[0;31m---------------------------------------------------------------------------\u001b[0m",
            "\u001b[0;31mValueError\u001b[0m                                Traceback (most recent call last)",
            "\u001b[0;32m<ipython-input-105-912d0824fac6>\u001b[0m in \u001b[0;36m<module>\u001b[0;34m()\u001b[0m\n\u001b[0;32m----> 1\u001b[0;31m \u001b[0mfloat\u001b[0m\u001b[0;34m(\u001b[0m\u001b[0mopcao1\u001b[0m\u001b[0;34m)\u001b[0m\u001b[0;34m\u001b[0m\u001b[0;34m\u001b[0m\u001b[0m\n\u001b[0m",
            "\u001b[0;31mValueError\u001b[0m: could not convert string to float: 'soma'"
          ]
        }
      ]
    },
    {
      "cell_type": "code",
      "source": [
        "4 * 10"
      ],
      "metadata": {
        "colab": {
          "base_uri": "https://localhost:8080/"
        },
        "id": "TPfR0O1mQuX1",
        "outputId": "494a30a4-324e-4013-c669-6f7bf3b4bf25"
      },
      "execution_count": 106,
      "outputs": [
        {
          "output_type": "execute_result",
          "data": {
            "text/plain": [
              "40"
            ]
          },
          "metadata": {},
          "execution_count": 106
        }
      ]
    }
  ]
}